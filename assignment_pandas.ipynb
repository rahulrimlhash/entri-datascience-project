{
 "cells": [
  {
   "cell_type": "markdown",
   "id": "8e494f50",
   "metadata": {},
   "source": [
    "#### Pandas Assignment"
   ]
  },
  {
   "cell_type": "code",
   "execution_count": 4,
   "id": "5e4a1c5a",
   "metadata": {},
   "outputs": [],
   "source": [
    "import pandas as pd"
   ]
  },
  {
   "cell_type": "code",
   "execution_count": 6,
   "id": "d5edf094",
   "metadata": {},
   "outputs": [],
   "source": [
    "languages = pd.Series([90, 85, 80, 75, 70], index=['Python', 'JavaScript', 'Java', 'C++', 'C#'])"
   ]
  },
  {
   "cell_type": "code",
   "execution_count": 7,
   "id": "184900eb",
   "metadata": {},
   "outputs": [
    {
     "name": "stdout",
     "output_type": "stream",
     "text": [
      "Python        90\n",
      "JavaScript    85\n",
      "Java          80\n",
      "C++           75\n",
      "C#            70\n",
      "dtype: int64\n"
     ]
    }
   ],
   "source": [
    "print(languages)"
   ]
  },
  {
   "cell_type": "code",
   "execution_count": 8,
   "id": "dcd82fa6",
   "metadata": {},
   "outputs": [],
   "source": [
    "data = [1, 2, 3, 4, 5]\n",
    "series = pd.Series(data)"
   ]
  },
  {
   "cell_type": "code",
   "execution_count": 9,
   "id": "8b2e58f1",
   "metadata": {},
   "outputs": [
    {
     "data": {
      "text/plain": [
       "[1, 2, 3, 4, 5]"
      ]
     },
     "execution_count": 9,
     "metadata": {},
     "output_type": "execute_result"
    }
   ],
   "source": [
    "data"
   ]
  },
  {
   "cell_type": "code",
   "execution_count": 10,
   "id": "3a1e887f",
   "metadata": {},
   "outputs": [],
   "source": [
    "series_sum = series.sum()\n",
    "series_mean = series.mean()\n",
    "series_std = series.std()"
   ]
  },
  {
   "cell_type": "code",
   "execution_count": 11,
   "id": "e06f627d",
   "metadata": {},
   "outputs": [
    {
     "name": "stdout",
     "output_type": "stream",
     "text": [
      "Sum: 15\n",
      "Mean: 3.0\n",
      "Standard Deviation: 1.5811388300841898\n"
     ]
    }
   ],
   "source": [
    "print(\"Sum:\", series_sum)\n",
    "print(\"Mean:\", series_mean)\n",
    "print(\"Standard Deviation:\", series_std)"
   ]
  },
  {
   "cell_type": "code",
   "execution_count": 16,
   "id": "3a36e7e2",
   "metadata": {},
   "outputs": [],
   "source": [
    "data = {'apples': 3, 'bananas': 2, 'oranges': 1}\n",
    "series = pd.Series(data)"
   ]
  },
  {
   "cell_type": "code",
   "execution_count": 17,
   "id": "b9940e24",
   "metadata": {},
   "outputs": [],
   "source": [
    "series['lime'] = 4"
   ]
  },
  {
   "cell_type": "code",
   "execution_count": 18,
   "id": "b52a811b",
   "metadata": {},
   "outputs": [
    {
     "name": "stdout",
     "output_type": "stream",
     "text": [
      "apples     3\n",
      "bananas    2\n",
      "oranges    1\n",
      "lime       4\n",
      "dtype: int64\n"
     ]
    }
   ],
   "source": [
    "print(series)"
   ]
  },
  {
   "cell_type": "code",
   "execution_count": 20,
   "id": "da965966",
   "metadata": {},
   "outputs": [],
   "source": [
    "data = [1, 2, 3, 4, 5]\n",
    "series = pd.Series(data)"
   ]
  },
  {
   "cell_type": "code",
   "execution_count": 21,
   "id": "f7461fbf",
   "metadata": {},
   "outputs": [
    {
     "name": "stdout",
     "output_type": "stream",
     "text": [
      "2    3\n",
      "3    4\n",
      "4    5\n",
      "dtype: int64\n"
     ]
    }
   ],
   "source": [
    "filtered_series = series[series > 2]\n",
    "print(filtered_series)"
   ]
  },
  {
   "cell_type": "code",
   "execution_count": 22,
   "id": "6c0a080a",
   "metadata": {},
   "outputs": [],
   "source": [
    "import pandas as pd"
   ]
  },
  {
   "cell_type": "code",
   "execution_count": 23,
   "id": "42f761e3",
   "metadata": {},
   "outputs": [],
   "source": [
    "data = [1, 3, 5, 7, 9]"
   ]
  },
  {
   "cell_type": "code",
   "execution_count": 24,
   "id": "4af0615a",
   "metadata": {},
   "outputs": [],
   "source": [
    "series = pd.Series(data)"
   ]
  },
  {
   "cell_type": "code",
   "execution_count": 25,
   "id": "0bedb3d2",
   "metadata": {},
   "outputs": [],
   "source": [
    "series.index = ['a', 'b', 'c', 'd', 'e']"
   ]
  },
  {
   "cell_type": "code",
   "execution_count": 26,
   "id": "4855dc5e",
   "metadata": {},
   "outputs": [
    {
     "name": "stdout",
     "output_type": "stream",
     "text": [
      "a    1\n",
      "b    3\n",
      "c    5\n",
      "d    7\n",
      "e    9\n",
      "dtype: int64\n"
     ]
    }
   ],
   "source": [
    "print(series)"
   ]
  },
  {
   "cell_type": "code",
   "execution_count": null,
   "id": "b418d34b",
   "metadata": {},
   "outputs": [],
   "source": []
  }
 ],
 "metadata": {
  "kernelspec": {
   "display_name": "Python 3 (ipykernel)",
   "language": "python",
   "name": "python3"
  },
  "language_info": {
   "codemirror_mode": {
    "name": "ipython",
    "version": 3
   },
   "file_extension": ".py",
   "mimetype": "text/x-python",
   "name": "python",
   "nbconvert_exporter": "python",
   "pygments_lexer": "ipython3",
   "version": "3.9.13"
  }
 },
 "nbformat": 4,
 "nbformat_minor": 5
}
