{
 "cells": [
  {
   "cell_type": "code",
   "execution_count": 1,
   "id": "f52ffcc4",
   "metadata": {},
   "outputs": [],
   "source": [
    "import numpy as np"
   ]
  },
  {
   "cell_type": "code",
   "execution_count": 2,
   "id": "397ae8ed",
   "metadata": {},
   "outputs": [],
   "source": [
    "arr = np.random.randint(1, 101, size=5)"
   ]
  },
  {
   "cell_type": "code",
   "execution_count": 3,
   "id": "0055aa37",
   "metadata": {},
   "outputs": [
    {
     "name": "stdout",
     "output_type": "stream",
     "text": [
      "[95 23 43 64 25]\n"
     ]
    }
   ],
   "source": [
    "print(arr)"
   ]
  },
  {
   "cell_type": "code",
   "execution_count": 4,
   "id": "b94a4138",
   "metadata": {},
   "outputs": [],
   "source": [
    "arr1 = np.arange(1, 11)"
   ]
  },
  {
   "cell_type": "code",
   "execution_count": 6,
   "id": "4652ec69",
   "metadata": {},
   "outputs": [],
   "source": [
    "reshaped_arr = arr1.reshape(2, 5)"
   ]
  },
  {
   "cell_type": "code",
   "execution_count": 7,
   "id": "10493f23",
   "metadata": {},
   "outputs": [
    {
     "name": "stdout",
     "output_type": "stream",
     "text": [
      "[[ 1  2  3  4  5]\n",
      " [ 6  7  8  9 10]]\n"
     ]
    }
   ],
   "source": [
    "print(reshaped_arr)"
   ]
  },
  {
   "cell_type": "code",
   "execution_count": 8,
   "id": "c316b5c8",
   "metadata": {},
   "outputs": [],
   "source": [
    "arr2 = np.arange(1, 21)"
   ]
  },
  {
   "cell_type": "code",
   "execution_count": 10,
   "id": "a51f888c",
   "metadata": {},
   "outputs": [],
   "source": [
    "extracted_arr = arr[4:15]"
   ]
  },
  {
   "cell_type": "code",
   "execution_count": 11,
   "id": "d143244b",
   "metadata": {},
   "outputs": [
    {
     "name": "stdout",
     "output_type": "stream",
     "text": [
      "[ 5  6  7  8  9 10 11 12 13 14 15]\n"
     ]
    }
   ],
   "source": [
    "print(extracted_arr)"
   ]
  },
  {
   "cell_type": "code",
   "execution_count": 13,
   "id": "3df300e3",
   "metadata": {},
   "outputs": [],
   "source": [
    "arr3 = np.linspace(0, 1, num=10)"
   ]
  },
  {
   "cell_type": "code",
   "execution_count": 14,
   "id": "663ecabd",
   "metadata": {},
   "outputs": [
    {
     "name": "stdout",
     "output_type": "stream",
     "text": [
      "[0.         0.11111111 0.22222222 0.33333333 0.44444444 0.55555556\n",
      " 0.66666667 0.77777778 0.88888889 1.        ]\n"
     ]
    }
   ],
   "source": [
    "print(arr3)"
   ]
  },
  {
   "cell_type": "code",
   "execution_count": 15,
   "id": "e079877b",
   "metadata": {},
   "outputs": [],
   "source": [
    "arr4 = np.arange(1, 10)"
   ]
  },
  {
   "cell_type": "code",
   "execution_count": 17,
   "id": "0187a004",
   "metadata": {},
   "outputs": [],
   "source": [
    "squared_arr = np.square(arr4)"
   ]
  },
  {
   "cell_type": "code",
   "execution_count": 18,
   "id": "2156f79e",
   "metadata": {},
   "outputs": [
    {
     "name": "stdout",
     "output_type": "stream",
     "text": [
      "[ 1  4  9 16 25 36 49 64 81]\n"
     ]
    }
   ],
   "source": [
    "print(squared_arr)"
   ]
  },
  {
   "cell_type": "code",
   "execution_count": null,
   "id": "2f93db5e",
   "metadata": {},
   "outputs": [],
   "source": []
  }
 ],
 "metadata": {
  "kernelspec": {
   "display_name": "Python 3 (ipykernel)",
   "language": "python",
   "name": "python3"
  },
  "language_info": {
   "codemirror_mode": {
    "name": "ipython",
    "version": 3
   },
   "file_extension": ".py",
   "mimetype": "text/x-python",
   "name": "python",
   "nbconvert_exporter": "python",
   "pygments_lexer": "ipython3",
   "version": "3.9.13"
  }
 },
 "nbformat": 4,
 "nbformat_minor": 5
}
